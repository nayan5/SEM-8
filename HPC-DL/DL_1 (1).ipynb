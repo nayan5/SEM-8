{
  "nbformat": 4,
  "nbformat_minor": 0,
  "metadata": {
    "colab": {
      "provenance": []
    },
    "kernelspec": {
      "name": "python3",
      "display_name": "Python 3"
    },
    "language_info": {
      "name": "python"
    }
  },
  "cells": [
    {
      "cell_type": "code",
      "execution_count": 22,
      "metadata": {
        "id": "659tZOUe7Wwt"
      },
      "outputs": [],
      "source": [
        "import numpy as np\n",
        "from tensorflow import keras\n",
        "from tensorflow.keras.datasets import boston_housing\n",
        "from tensorflow.keras.models import Sequential\n",
        "from tensorflow.keras.layers import Dense\n"
      ]
    },
    {
      "cell_type": "code",
      "source": [
        "(x_train, y_train), (x_test, y_test) = boston_housing.load_data()\n",
        "mean, std = x_train.mean(axis=0), x_train.std(axis=0)\n",
        "x_train = (x_train - mean) / std\n",
        "x_test = (x_test - mean) / std\n",
        "# Load and preprocess the data"
      ],
      "metadata": {
        "id": "p0WrOTY-7p9H"
      },
      "execution_count": 23,
      "outputs": []
    },
    {
      "cell_type": "code",
      "source": [
        "model = Sequential([Dense(64, activation='relu', input_shape=(x_train.shape[1],)),\n",
        "                    Dense(64, activation='relu'),\n",
        "                    Dense(1)])\n",
        "model.compile(optimizer='adam', loss='mse', metrics=['mae'])\n",
        "# model.summary()\n",
        "model.fit(x_train, y_train, batch_size=32, epochs=100, verbose=1)\n",
        "# Define and train the model"
      ],
      "metadata": {
        "id": "SSfz3qRN75cH"
      },
      "execution_count": 29,
      "outputs": []
    },
    {
      "cell_type": "code",
      "source": [
        "mse, mae = model.evaluate(x_test, y_test, verbose=0)\n",
        "predictions = model.predict(x_test)\n",
        "# Evaluate and make predictions"
      ],
      "metadata": {
        "colab": {
          "base_uri": "https://localhost:8080/"
        },
        "id": "eWMMAk1X77uY",
        "outputId": "f38c6312-7058-43d4-ed70-32cac67ccad9"
      },
      "execution_count": 4,
      "outputs": [
        {
          "output_type": "stream",
          "name": "stdout",
          "text": [
            "4/4 [==============================] - 0s 3ms/step\n"
          ]
        }
      ]
    },
    {
      "cell_type": "code",
      "source": [
        "print(f\"MSE: {mse:.2f}, MAE: {mae:.2f}\")\n",
        "# Print results\n"
      ],
      "metadata": {
        "colab": {
          "base_uri": "https://localhost:8080/"
        },
        "id": "dUZbfMoD8ABT",
        "outputId": "9d6e586c-d746-49eb-b7b7-f20b8b29c140"
      },
      "execution_count": 6,
      "outputs": [
        {
          "output_type": "stream",
          "name": "stdout",
          "text": [
            "MSE: 18.42, MAE: 2.70\n"
          ]
        }
      ]
    },
    {
      "cell_type": "code",
      "source": [
        "# Sample prediction\n",
        "sample_idx = 3\n",
        "actual_price = y_test[sample_idx]\n",
        "predicted_price = predictions[sample_idx][0]\n",
        "print(f\"Actual Price: {actual_price:.2f}\")\n",
        "print(f\"Predicted Price: {predicted_price:.2f}\")"
      ],
      "metadata": {
        "colab": {
          "base_uri": "https://localhost:8080/"
        },
        "id": "TtybRCg885RK",
        "outputId": "9f42eef3-05e4-4e0b-d0c8-15a3d7636754"
      },
      "execution_count": 27,
      "outputs": [
        {
          "output_type": "stream",
          "name": "stdout",
          "text": [
            "Actual Price: 27.00\n",
            "Predicted Price: 33.91\n"
          ]
        }
      ]
    },
    {
      "cell_type": "code",
      "source": [
        "#  Boston housing price prediction dataset = predict the housing prices"
      ],
      "metadata": {
        "id": "t93XRzlCUpmO"
      },
      "execution_count": null,
      "outputs": []
    },
    {
      "cell_type": "code",
      "source": [
        "# from sklearn.datasets import fetch_openml\n",
        "# import pandas as pd\n",
        "\n",
        "# boston_dataset = fetch_openml(name='boston', version=1)\n",
        "# df=pd.DataFrame(boston_dataset.data,columns=boston_dataset.feature_names)\n",
        "# df['MEDV']=boston_dataset.target\n",
        "\n",
        "# df.head(10)"
      ],
      "metadata": {
        "id": "m-KVrIYyMgZr"
      },
      "execution_count": 30,
      "outputs": []
    },
    {
      "cell_type": "code",
      "source": [
        "#sequential - create a linear stack of layers in your neural network model\n",
        "# x_train: This variable stores the features (input data) for the training set\n",
        "# y_train: This variable stores the target values (output data) corresponding to the training set\n",
        "# target values = (median house prices) \n",
        "# MEDV = Median Value of owner-occupied homes "
      ],
      "metadata": {
        "id": "XUz1IXanOn4l"
      },
      "execution_count": null,
      "outputs": []
    },
    {
      "cell_type": "code",
      "source": [
        "# Standardization - making them have zero mean and unit variance"
      ],
      "metadata": {
        "id": "CFD5xTk5Pshe"
      },
      "execution_count": null,
      "outputs": []
    },
    {
      "cell_type": "code",
      "source": [
        "# Training = Use Epoch"
      ],
      "metadata": {
        "id": "eAAmH8IwVqNM"
      },
      "execution_count": null,
      "outputs": []
    },
    {
      "cell_type": "code",
      "source": [
        "# epochs: The number of times the entire training dataset is passed through the model during training. \n",
        "# Each epoch consists of multiple batches, and the model's weights are updated after each batch. \n",
        "# Setting epochs to 100 means that the model will be trained for 100 passes over the entire training data."
      ],
      "metadata": {
        "id": "IOQeLotlQ6S7"
      },
      "execution_count": null,
      "outputs": []
    },
    {
      "cell_type": "code",
      "source": [
        "#  two hidden layers with 64 units each and ReLU activation,\n",
        "#  and an output layer with a single unit"
      ],
      "metadata": {
        "id": "PkkdTja6QKRD"
      },
      "execution_count": null,
      "outputs": []
    },
    {
      "cell_type": "code",
      "source": [
        "# Optimization = Use Adam "
      ],
      "metadata": {
        "id": "9YYfizvgVU6y"
      },
      "execution_count": null,
      "outputs": []
    }
  ]
}