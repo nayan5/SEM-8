{
  "nbformat": 4,
  "nbformat_minor": 0,
  "metadata": {
    "colab": {
      "provenance": []
    },
    "kernelspec": {
      "name": "python3",
      "display_name": "Python 3"
    },
    "language_info": {
      "name": "python"
    }
  },
  "cells": [
    {
      "cell_type": "code",
      "execution_count": 1,
      "metadata": {
        "id": "0wdUZtwDvzLm"
      },
      "outputs": [],
      "source": [
        "import numpy as np\n",
        "from tensorflow.keras.datasets import imdb\n",
        "from tensorflow.keras.models import Sequential\n",
        "from tensorflow.keras.layers import Dense, Dropout, Embedding, Flatten\n",
        "from tensorflow.keras.preprocessing import sequence"
      ]
    },
    {
      "cell_type": "code",
      "source": [
        "# Set the maximum number of words to be used as features\n",
        "max_words = 5000\n",
        "# Set the maximum number of words per review\n",
        "max_review_length = 500\n"
      ],
      "metadata": {
        "id": "L1J5itRDwIy2"
      },
      "execution_count": 4,
      "outputs": []
    },
    {
      "cell_type": "code",
      "source": [
        "\n",
        "# Load the IMDB dataset\n",
        "(x_train, y_train), (x_test, y_test) = imdb.load_data(num_words=max_words)\n",
        "\n",
        "# Pad sequences to ensure consistent length for input\n",
        "x_train = sequence.pad_sequences(x_train, maxlen=max_review_length)\n",
        "x_test = sequence.pad_sequences(x_test, maxlen=max_review_length)\n"
      ],
      "metadata": {
        "colab": {
          "base_uri": "https://localhost:8080/"
        },
        "id": "rTHSG6Pav8RO",
        "outputId": "6bb8ce4f-1530-40bc-f45e-ed2baf6b4785"
      },
      "execution_count": 5,
      "outputs": [
        {
          "output_type": "stream",
          "name": "stdout",
          "text": [
            "Downloading data from https://storage.googleapis.com/tensorflow/tf-keras-datasets/imdb.npz\n",
            "17464789/17464789 [==============================] - 0s 0us/step\n"
          ]
        }
      ]
    },
    {
      "cell_type": "code",
      "source": [
        "\n",
        "# Define the model architecture\n",
        "model = Sequential()\n",
        "model.add(Embedding(max_words, 32, input_length=max_review_length))\n",
        "model.add(Flatten())\n",
        "model.add(Dense(1, activation='sigmoid'))\n",
        "\n",
        "# Compile the model\n",
        "model.compile(loss='binary_crossentropy', optimizer='adam', metrics=['accuracy'])\n"
      ],
      "metadata": {
        "id": "YhM18lbEwK9A"
      },
      "execution_count": 6,
      "outputs": []
    },
    {
      "cell_type": "code",
      "source": [
        "# Train the model\n",
        "model.fit(x_train, y_train, validation_data=(x_test, y_test), epochs=5, batch_size=64)\n",
        "\n",
        "# Evaluate the model\n",
        "scores = model.evaluate(x_test, y_test, verbose=0)\n",
        "print(\"Accuracy: %.2f%%\" % (scores[1] * 100))"
      ],
      "metadata": {
        "colab": {
          "base_uri": "https://localhost:8080/"
        },
        "id": "jtyN2fk5v_SJ",
        "outputId": "d121896f-130a-410e-8d60-646341dd973c"
      },
      "execution_count": 7,
      "outputs": [
        {
          "output_type": "stream",
          "name": "stdout",
          "text": [
            "Epoch 1/5\n",
            "391/391 [==============================] - 51s 126ms/step - loss: 0.4156 - accuracy: 0.7883 - val_loss: 0.2932 - val_accuracy: 0.8749\n",
            "Epoch 2/5\n",
            "391/391 [==============================] - 50s 127ms/step - loss: 0.1564 - accuracy: 0.9423 - val_loss: 0.3385 - val_accuracy: 0.8610\n",
            "Epoch 3/5\n",
            "391/391 [==============================] - 47s 120ms/step - loss: 0.0378 - accuracy: 0.9891 - val_loss: 0.4903 - val_accuracy: 0.8534\n",
            "Epoch 4/5\n",
            "391/391 [==============================] - 44s 112ms/step - loss: 0.0065 - accuracy: 0.9991 - val_loss: 0.5951 - val_accuracy: 0.8573\n",
            "Epoch 5/5\n",
            "391/391 [==============================] - 46s 117ms/step - loss: 0.0016 - accuracy: 0.9999 - val_loss: 0.6494 - val_accuracy: 0.8566\n",
            "Accuracy: 85.66%\n"
          ]
        }
      ]
    }
  ]
}